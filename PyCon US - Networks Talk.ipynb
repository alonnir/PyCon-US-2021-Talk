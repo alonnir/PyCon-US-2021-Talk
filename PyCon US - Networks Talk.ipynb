{
 "cells": [
  {
   "cell_type": "markdown",
   "metadata": {},
   "source": [
    "<img src=\"images/slide.png\" alt=\"venmo\" width=\"800\">"
   ]
  },
  {
   "cell_type": "code",
   "execution_count": null,
   "metadata": {},
   "outputs": [],
   "source": [
    "import networkx as nx\n",
    "print(nx.__version__)\n",
    "\n",
    "import pandas as pd\n",
    "import collections\n",
    "\n",
    "import matplotlib.pyplot as plt\n",
    "\n",
    "from utils.pos import pos\n",
    "\n",
    "from IPython.display import Image"
   ]
  },
  {
   "cell_type": "code",
   "execution_count": null,
   "metadata": {},
   "outputs": [],
   "source": [
    "# Create an empty graph (no nodes and no edges)\n",
    "G = nx.Graph()"
   ]
  },
  {
   "cell_type": "markdown",
   "metadata": {},
   "source": [
    "> In NetworkX, nodes can be any hashable object e.g., a text string, an image, an XML object, another Graph, a customized node object, etc.\n",
    "\n",
    "\n",
    "([docs](https://networkx.github.io/documentation/stable/tutorial.html#creating-a-graph))\n",
    "\n",
    "\n",
    "#### Populate the Graph\n",
    "\n",
    "We can pass a list of tuples (node1, node2) and networkx will interpert each tuple as <br>\n",
    "having an edge between (or from, in directed graphs) node1 and node2."
   ]
  },
  {
   "cell_type": "code",
   "execution_count": null,
   "metadata": {},
   "outputs": [],
   "source": [
    "G.add_edges_from([('Leonard', 'Jon'),\n",
    "                 ('Hunter', 'Brian'),\n",
    "                 ('Ericka', 'Monica')])"
   ]
  },
  {
   "cell_type": "markdown",
   "metadata": {},
   "source": [
    "We just created our first network - that was easy! <br>\n",
    "Let's see what it looks like"
   ]
  },
  {
   "cell_type": "code",
   "execution_count": null,
   "metadata": {},
   "outputs": [],
   "source": [
    "plt.figure(figsize=(16,8), frameon=False)\n",
    "\n",
    "limits = plt.axis('off')\n",
    "\n",
    "nx.draw(G,                              # our graph\n",
    "        node_size=5000,                 # just so it's easier to read\n",
    "        font_size=16,\n",
    "        font_weight='bold',\n",
    "        node_color='#1261A0', alpha=.5,\n",
    "        with_labels=True,\n",
    "        pos=nx.spring_layout(G, k=.8)) # spread the nodes for legibility"
   ]
  },
  {
   "cell_type": "markdown",
   "metadata": {},
   "source": [
    "## We created our first network...\n",
    "## but it is not super exciting :(\n",
    "\n",
    "Here's what we'll do then:\n",
    "\n",
    "1. Create a large network from a bigger data set<br>\n",
    "2. We'll break the large graph to smaller independent sub-graphs (connected-components)<br>\n",
    "3. We'll zoom in on one _connected-component_ <br>\n",
    "4. We'll discover _communities_ withing that connected component.<br>\n",
    "5. Finally we'll zoom in to interesting individuals<br>\n",
    "\n",
    "In other words:\n",
    "\n",
    "Large Graph<br>\n",
    "⬇️<br>\n",
    "one subgraph<br>\n",
    "⬇️<br>\n",
    "communities<br>\n",
    "⬇️<br>\n",
    "individuals"
   ]
  },
  {
   "cell_type": "markdown",
   "metadata": {},
   "source": [
    "## Load Bigger Data\n",
    "\n",
    "(Note: obfuscated data)\n",
    "\n",
    "We'll use Pandas (<3), other raw data formats NetworkX handles well include Pickle, JSON. [(docs)](https://networkx.github.io/documentation/stable/reference/readwrite/index.html)"
   ]
  },
  {
   "cell_type": "code",
   "execution_count": null,
   "metadata": {},
   "outputs": [],
   "source": [
    "pmts_df = pd.read_csv('data/p2p_payments.csv', usecols=['sender_id', 'receiver_id'])"
   ]
  },
  {
   "cell_type": "code",
   "execution_count": null,
   "metadata": {},
   "outputs": [],
   "source": [
    "print(pmts_df.shape)\n",
    "pmts_df.head()"
   ]
  },
  {
   "cell_type": "code",
   "execution_count": null,
   "metadata": {},
   "outputs": [],
   "source": [
    "\n",
    "G = nx.from_pandas_edgelist(pmts_df,                       # DataFrame with raw data\n",
    "                            source='sender_id',            # From.. (some dataframes have more than 2 columns...)\n",
    "                            target='receiver_id',          # To..\n",
    "                            create_using=nx.DiGraph())     # <== This is a Directed Graph (technically, a MultiDiGraph, but we'll get to that later)\n",
    "\n",
    "\n",
    "# Let's see what we're working with\n",
    "# (you can also use nx.info(G))\n",
    "\n",
    "print(nx.number_of_nodes(G), 'nodes (= people)')\n",
    "print(nx.number_of_edges(G), 'edges (= $ transfers)')\n",
    "print(nx.number_of_isolates(G), 'isolates - nodes with no neighbours')"
   ]
  },
  {
   "cell_type": "markdown",
   "metadata": {},
   "source": [
    "### Visualizing the Large Network\n",
    "\n",
    "➡️(UNHIDE)"
   ]
  },
  {
   "cell_type": "markdown",
   "metadata": {
    "jupyter": {
     "source_hidden": true
    },
    "tags": []
   },
   "source": [
    "<!-- <img src=\"images/large_graph.png\" alt=\"drawing\", width=\"800\"> -->\n",
    "\n",
    "<img src=\"images/large_graph.png\" alt=\"large graph\" width=\"800\">"
   ]
  },
  {
   "cell_type": "markdown",
   "metadata": {},
   "source": [
    "This is not very helpful.. what can we do?\n",
    "+ We can visualize and analyse the large network with NetworkX and/or external tools\n",
    "+ We can zoom in on one 'sub group' of this large network and see if we can find something interesting there.\n",
    "\n",
    "We'll go with the second option:\n",
    "+ Easier to gain intuitive understanding of some of the concepts as it’s easier to see. \n",
    "+ Larger networks are less intuitive and more resource heavy."
   ]
  },
  {
   "cell_type": "markdown",
   "metadata": {},
   "source": [
    "The way to look at a 'sub group' is with:\n",
    "\n",
    "## Connected Components\n",
    "\n",
    "A connected component is a subset of the nodes of the graph such that:\n",
    "+ There is a _path_ between any two nodes of the subset.\n",
    "+ No other node in the graph has a path to any of the nodes in the subset."
   ]
  },
  {
   "cell_type": "markdown",
   "metadata": {},
   "source": [
    "<img src=\"images/cc.png\" alt=\"venmo\" width=\"700\">"
   ]
  },
  {
   "cell_type": "markdown",
   "metadata": {},
   "source": [
    "However, if we cut just one edge out:\n",
    "\n",
    "<img src=\"images/cc2.png\" alt=\"venmo\" width=\"700\">"
   ]
  },
  {
   "cell_type": "markdown",
   "metadata": {},
   "source": [
    "Back to our data..."
   ]
  },
  {
   "cell_type": "code",
   "execution_count": null,
   "metadata": {},
   "outputs": [],
   "source": [
    "WCC = nx.weakly_connected_components(G)  # returns a generator\n",
    "\n",
    "WCC = list(WCC)\n",
    "\n",
    "# To explore what CCs were created:\n",
    "lens = map(len, WCC)\n",
    "d = collections.Counter(lens)\n",
    "\n",
    "print(f'There are {len(WCC)} Connected Components and the largest connected component is {max(d.keys())} members strong!')"
   ]
  },
  {
   "cell_type": "code",
   "execution_count": null,
   "metadata": {},
   "outputs": [],
   "source": [
    "print('Top 5 largest connected components:')\n",
    "sorted(d.items(), key=lambda pair: pair[0], reverse=True)[:5]"
   ]
  },
  {
   "cell_type": "code",
   "execution_count": null,
   "metadata": {},
   "outputs": [],
   "source": [
    "# We'll zoom in on one CC which I conveniently cherry picked beforehand \n",
    "\n",
    "cherry_picked = [88747525, 180629853, 25648751, 178226065, 172578712, 200345769, 78935231, 148311246, 131678335, 157137118, 87972129, \n",
    "                 93085738, 139862068, 109200971, 89357141, 152546927, 39964577, 164939951, 156165568, 136860636, 70296805, 50857457, \n",
    "                 132641831, 82053696, 129704264, 162538841, 135319667, 143529671, 117152739, 170878296, 68738163, 63721855, 144630663, \n",
    "                 133914532, 56716492, 113089048, 34949035, 171734174, 54646997, 135317744]"
   ]
  },
  {
   "cell_type": "markdown",
   "metadata": {},
   "source": [
    "We'll now create a **Subgraph**<br>\n",
    "A subgraph is essentially a 'subset' of the original (Supergraph) for given nodes.<br>\n",
    "If we pass a list of nodes, networkx knows to take the relevant edges and information (direction, weights, attributes...) from the **Supergraph**."
   ]
  },
  {
   "cell_type": "code",
   "execution_count": null,
   "metadata": {},
   "outputs": [],
   "source": [
    "Gsub = G.subgraph(nodes=cherry_picked)\n",
    "\n",
    "print(nx.number_of_nodes(Gsub), 'nodes')\n",
    "print(nx.number_of_edges(Gsub), 'edges')"
   ]
  },
  {
   "cell_type": "code",
   "execution_count": null,
   "metadata": {},
   "outputs": [],
   "source": [
    "# let's see what that subgraph looks like!\n",
    "\n",
    "plt.figure(figsize=(22,16))\n",
    "\n",
    "\n",
    "nx.draw(Gsub, \n",
    "        edge_color='#d9dce0',\n",
    "        width=5,\n",
    "        pos=pos,         # positions of the nodes, preconfigured earlier \n",
    "        arrowsize=40)  "
   ]
  },
  {
   "cell_type": "code",
   "execution_count": null,
   "metadata": {},
   "outputs": [],
   "source": [
    "# Add user ids\n",
    "\n",
    "plt.figure(figsize=(22,16))\n",
    "\n",
    "\n",
    "nx.draw(Gsub, \n",
    "        edge_color='#d9dce0',\n",
    "        width=5,\n",
    "        font_size=18, \n",
    "        pos=pos, \n",
    "        arrowsize=40,\n",
    "        with_labels=True)  # <===="
   ]
  },
  {
   "cell_type": "markdown",
   "metadata": {},
   "source": [
    "User IDs are very impersonal.. let's add some names.\n",
    "\n",
    "### Add Node Attributes"
   ]
  },
  {
   "cell_type": "code",
   "execution_count": null,
   "metadata": {},
   "outputs": [],
   "source": [
    "node_atts_df = pd.read_csv('data/node_attributes.csv', index_col='userid', usecols=['userid', 'first_name', 'gender'])\n",
    "\n",
    "node_atts_df.head()"
   ]
  },
  {
   "cell_type": "code",
   "execution_count": null,
   "metadata": {},
   "outputs": [],
   "source": [
    "# Turn that to a dict, gotta <3 pandas\n",
    "node_atts_d = node_atts_df.to_dict(orient='index')\n",
    "\n",
    "\n",
    "# and apply - a little long but it works!\n",
    "nx.classes.function.set_node_attributes(Gsub, node_atts_d)"
   ]
  },
  {
   "cell_type": "code",
   "execution_count": null,
   "metadata": {},
   "outputs": [],
   "source": [
    "# let's see that attributes were set\n",
    "\n",
    "Gsub.nodes[88747525]"
   ]
  },
  {
   "cell_type": "code",
   "execution_count": null,
   "metadata": {},
   "outputs": [],
   "source": [
    "# we can access the node attributes by:\n",
    "# Gsub.nodes.data()\n",
    "\n",
    "# or a specific attribute by a key\n",
    "nx.get_node_attributes(Gsub, 'first_name')"
   ]
  },
  {
   "cell_type": "code",
   "execution_count": null,
   "metadata": {},
   "outputs": [],
   "source": [
    "plt.figure(figsize=(22,16))\n",
    "\n",
    "node_lables = nx.get_node_attributes(Gsub, 'first_name')  # <==== (graph, attribute)\n",
    "\n",
    "nx.draw(Gsub, \n",
    "        edge_color='#d9dce0',\n",
    "        width=5,\n",
    "        font_size=18, \n",
    "        pos=pos, \n",
    "        arrowsize=40,\n",
    "        labels=node_lables, # <====\n",
    "        with_labels=True)  "
   ]
  },
  {
   "cell_type": "markdown",
   "metadata": {},
   "source": [
    "Similarly, there are also _edge attributes_, for example the \"weight\" of the edge.\n",
    "\n",
    "### Checkpoint\n",
    "\n",
    "✅Large Graph (~700k nodes)<br> \n",
    "\n",
    "✅Connected Components (~158k CC)\n",
    "\n",
    "✅one subgraph (~40 nodes)<br>\n",
    "\n",
    "Next: <br>\n",
    "\n",
    "+ communities<br>\n",
    "\n",
    "+ individuals of interest"
   ]
  },
  {
   "cell_type": "markdown",
   "metadata": {},
   "source": [
    "## Detecting Communities"
   ]
  },
  {
   "cell_type": "markdown",
   "metadata": {},
   "source": [
    "Very high level: \n",
    "\n",
    "Communities tend to have dense connections between the nodes within a community, but sparse connections between nodes in different communities.\n",
    "\n",
    "(you have your group of friends, other people have their own; you are not part of theirs and they are not a part of yours).\n",
    "\n",
    "Different from connected components, where there are no paths connecting one component to another."
   ]
  },
  {
   "cell_type": "markdown",
   "metadata": {},
   "source": [
    "<img src=\"images/communities.png\" alt=\"venmo\" width=\"700\">"
   ]
  },
  {
   "cell_type": "code",
   "execution_count": null,
   "metadata": {},
   "outputs": [],
   "source": [
    "import community\n",
    "\n",
    "# Not bundled in NetworkX.\n",
    "# Uses Louvain algorithm. \n",
    "# pip install python-louvain\n",
    "\n",
    "# Alternatively: nx.algorithms.community.centrality.girvan_newman(Gsub), uses Girvan-Newman algorithm\n",
    "\n",
    "communities = community.best_partition(Gsub.to_undirected(), resolution=.75)  # cheating a little bit here too, by passing an undirected graph..\n",
    "\n",
    "print(f\"{len(set(communities.values()))} distinct communities were detected!\")"
   ]
  },
  {
   "cell_type": "code",
   "execution_count": null,
   "metadata": {},
   "outputs": [],
   "source": [
    "c_values = [communities.get(node) for node in Gsub.nodes()]\n",
    "\n",
    "plt.figure(figsize=(22,16))\n",
    "\n",
    "nx.draw(Gsub, \n",
    "        edge_color='#d9dce0', \n",
    "        font_size=18, \n",
    "        pos=pos,\n",
    "        node_color=c_values,\n",
    "        alpha=.5,\n",
    "        width=5,\n",
    "        arrowsize=40,\n",
    "        labels=node_lables,\n",
    "        with_labels=True)"
   ]
  },
  {
   "cell_type": "markdown",
   "metadata": {},
   "source": [
    "## Ranking our Nodes\n",
    "\n",
    "There are many ways to rank and 'score' nodes. <br>\n",
    "There is no one right way - depends on context and goal.<br>\n",
    "\n",
    "Some ways include:\n",
    "\n",
    "#### Naïve:\n",
    "* **Degree Centrality**: The degree centrality for a node is the fraction of other nodes in the graph it is connected to.\n",
    "* **In/Out Degree Centrality**: similarly, when considering incoming/outgoing links.\n",
    "\n",
    "#### A little more complex:\n",
    "Not all nodes are created equal!\n",
    "+ **Betweeness Centrality**\n",
    "+ **PageRank**\n",
    "+ **(HITS)**"
   ]
  },
  {
   "cell_type": "markdown",
   "metadata": {},
   "source": [
    "#### Betweeness Centrality\n",
    "\n",
    "One of the most common and important centrality measures for nodes, and for good reason.\n",
    "\n",
    "> Betweenness centrality of a node v is the sum of the fraction of all-pairs shortest paths that pass through v. \n",
    "\n",
    "[(docs)](https://networkx.github.io/documentation/stable/reference/algorithms/generated/networkx.algorithms.centrality.betweenness_centrality.html#networkx.algorithms.centrality.betweenness_centrality)\n",
    "\n",
    "That's a lot to take in, and I spared you the mathematical formulation.\n",
    "\n",
    "\n",
    "Intuitivly:\n",
    "\n",
    "+ We saw that a 'path' is edge(s) that connect a given node to another given node (without repetition)\n",
    "+ Shortest path between two nodes is the 'cheapest' way to get from one node to the other (the way with least edges, or for weighted graphs - lowest sum of weights).\n",
    "+ Central nodes in a network have more shortest paths go through them then other nodes.\n",
    "\n",
    "\n",
    "\n",
    "For large graphs we can approximate the BC."
   ]
  },
  {
   "cell_type": "code",
   "execution_count": null,
   "metadata": {},
   "outputs": [],
   "source": [
    "bc = nx.centrality.betweenness.betweenness_centrality(Gsub)\n",
    "\n",
    "bc"
   ]
  },
  {
   "cell_type": "code",
   "execution_count": null,
   "metadata": {},
   "outputs": [],
   "source": [
    "plt.figure(figsize=(22,16))\n",
    "\n",
    "nx.draw(Gsub, \n",
    "        edge_color='#d9dce0', \n",
    "        font_size=24, \n",
    "        pos=pos,\n",
    "        node_color=c_values,\n",
    "        alpha=.5,\n",
    "        width=5,\n",
    "        arrowsize = 40,\n",
    "        labels=node_lables,\n",
    "        with_labels=True,\n",
    "        node_size=[100000*bc[n] for n in Gsub.nodes()])   # <=== so easy!"
   ]
  },
  {
   "cell_type": "markdown",
   "metadata": {},
   "source": [
    "### PageRank\n",
    "\n",
    "> PageRank works by counting the **number** and **quality** of links to a page to determine a rough estimate of how important the website is. <br>The underlying assumption is that more important websites are likely to receive more links from other websites.\n",
    "\n",
    "(Source: [wikipedia](https://en.wikipedia.org/wiki/PageRank))."
   ]
  },
  {
   "cell_type": "code",
   "execution_count": null,
   "metadata": {},
   "outputs": [],
   "source": [
    "pr = nx.pagerank(Gsub)\n",
    "\n",
    "pr"
   ]
  },
  {
   "cell_type": "code",
   "execution_count": null,
   "metadata": {},
   "outputs": [],
   "source": [
    "plt.figure(figsize=(22,16))\n",
    "\n",
    "nx.draw(Gsub, \n",
    "        edge_color='#d9dce0', \n",
    "        font_size=18, \n",
    "        pos=pos,\n",
    "        node_color=c_values,\n",
    "        alpha=.75,\n",
    "        width=5,\n",
    "        arrowsize = 40,\n",
    "        labels=node_lables,\n",
    "        with_labels=True,\n",
    "        node_size=[100000*pr[n] for n in Gsub.nodes()])"
   ]
  },
  {
   "cell_type": "markdown",
   "metadata": {},
   "source": [
    "We see that nodes (e.g. Brandon and Todd) can be more/less important under different measures."
   ]
  },
  {
   "cell_type": "markdown",
   "metadata": {},
   "source": [
    "If we go back to our previous questions from the different teams, we can see network analysis has provided insight.\n",
    "\n",
    "* Customer service team: who’s customer service call should we answer first?\n",
    "\n",
    "\n",
    "* Marketing team: who should we spend our “influencers” marketing budget on?\n",
    "\n",
    "\n",
    "* Product team: who should we recruit as a beta tester? Who are our power users?\n",
    "\n",
    "\n",
    "* Customer research team: who should we interview?\n"
   ]
  },
  {
   "cell_type": "markdown",
   "metadata": {},
   "source": [
    "### 🔙 Head back to the deck!"
   ]
  },
  {
   "cell_type": "code",
   "execution_count": null,
   "metadata": {},
   "outputs": [],
   "source": []
  },
  {
   "cell_type": "code",
   "execution_count": null,
   "metadata": {},
   "outputs": [],
   "source": []
  },
  {
   "cell_type": "code",
   "execution_count": null,
   "metadata": {},
   "outputs": [],
   "source": []
  },
  {
   "cell_type": "code",
   "execution_count": null,
   "metadata": {},
   "outputs": [],
   "source": []
  },
  {
   "cell_type": "code",
   "execution_count": null,
   "metadata": {},
   "outputs": [],
   "source": []
  },
  {
   "cell_type": "code",
   "execution_count": null,
   "metadata": {},
   "outputs": [],
   "source": []
  },
  {
   "cell_type": "code",
   "execution_count": null,
   "metadata": {},
   "outputs": [],
   "source": []
  },
  {
   "cell_type": "code",
   "execution_count": null,
   "metadata": {},
   "outputs": [],
   "source": []
  },
  {
   "cell_type": "code",
   "execution_count": null,
   "metadata": {},
   "outputs": [],
   "source": []
  },
  {
   "cell_type": "code",
   "execution_count": null,
   "metadata": {},
   "outputs": [],
   "source": []
  },
  {
   "cell_type": "code",
   "execution_count": null,
   "metadata": {},
   "outputs": [],
   "source": []
  },
  {
   "cell_type": "code",
   "execution_count": null,
   "metadata": {},
   "outputs": [],
   "source": []
  },
  {
   "cell_type": "markdown",
   "metadata": {},
   "source": [
    "#### HITS - Hubs and Authorities"
   ]
  },
  {
   "cell_type": "code",
   "execution_count": null,
   "metadata": {},
   "outputs": [],
   "source": [
    "# The HITS algorithm computes two numbers for a node.\n",
    "# Authorities estimates the node value based on the incoming links.\n",
    "# Hubs estimates the node value based on outgoing links.\n",
    "\n",
    "hits = nx.hits(Gsub)  # returns (hubs, authorities)\n",
    "\n"
   ]
  },
  {
   "cell_type": "code",
   "execution_count": null,
   "metadata": {},
   "outputs": [],
   "source": [
    "# Draw the graph according to Hubs - \n",
    "# Hubs estimates the node value based on outgoing links\n",
    "# That is - nodes that send a lot of payments would be more prominent\n",
    "\n",
    "plt.figure(figsize=(22,16))\n",
    "\n",
    "nx.draw(Gsub, \n",
    "        edge_color='#d9dce0', \n",
    "        font_size=24,\n",
    "        pos=pos,\n",
    "        node_color=c_values,\n",
    "        alpha=.5,\n",
    "        width=5,\n",
    "        arrowsize = 40,\n",
    "        labels=node_lables,\n",
    "        with_labels=True,\n",
    "        node_size=[100000*hits[0][n] for n in Gsub.nodes()])"
   ]
  },
  {
   "cell_type": "code",
   "execution_count": null,
   "metadata": {},
   "outputs": [],
   "source": [
    "# Similarly with Authorities - \n",
    "# Authorities estimates the node value based on the incoming links\n",
    "# That is - nodes that receive a lot of payments would be more prominent\n",
    "\n",
    "plt.figure(figsize=(22,16))\n",
    "\n",
    "nx.draw(Gsub, \n",
    "        edge_color='#d9dce0', \n",
    "        font_size=18, \n",
    "        pos=pos,\n",
    "        node_color=c_values,\n",
    "        alpha=.5,\n",
    "        width=5,\n",
    "        arrowsize = 40,\n",
    "        labels=node_lables,\n",
    "        with_labels=True,\n",
    "        node_size=[100000*hits[1][n] for n in Gsub.nodes()])  # reminder: The HITS algorithm returns a tuple of (hubs, authorities)"
   ]
  },
  {
   "cell_type": "markdown",
   "metadata": {},
   "source": [
    "See the differences in node sizes for hubs (outgoing links) and authorities (incoming)."
   ]
  },
  {
   "cell_type": "code",
   "execution_count": null,
   "metadata": {},
   "outputs": [],
   "source": []
  },
  {
   "cell_type": "code",
   "execution_count": null,
   "metadata": {},
   "outputs": [],
   "source": []
  },
  {
   "cell_type": "code",
   "execution_count": null,
   "metadata": {},
   "outputs": [],
   "source": []
  },
  {
   "cell_type": "code",
   "execution_count": null,
   "metadata": {},
   "outputs": [],
   "source": []
  },
  {
   "cell_type": "code",
   "execution_count": null,
   "metadata": {},
   "outputs": [],
   "source": []
  },
  {
   "cell_type": "code",
   "execution_count": null,
   "metadata": {},
   "outputs": [],
   "source": []
  },
  {
   "cell_type": "code",
   "execution_count": null,
   "metadata": {},
   "outputs": [],
   "source": []
  },
  {
   "cell_type": "markdown",
   "metadata": {},
   "source": [
    "## Hit the deck -->"
   ]
  },
  {
   "cell_type": "markdown",
   "metadata": {},
   "source": [
    "-----\n",
    "# Backup"
   ]
  },
  {
   "cell_type": "code",
   "execution_count": null,
   "metadata": {},
   "outputs": [],
   "source": [
    "from numpy import array\n",
    "\n",
    "pos = {25648751: array([ 0.97298291,  0.59129412]),\n",
    " 34949035: array([ 0.06354039,  0.46169389]),\n",
    " 39964577: array([ 0.94279066,  0.43301245]),\n",
    " 50857457: array([ 0.12899911,  0.19483998]),\n",
    " 54646997: array([ 0.16250864,  0.8390073]),\n",
    " 56716492: array([ 0.23453152,  0.465721  ]),\n",
    " 63721855: array([ 0.56761181,  0.40107427]),\n",
    " 68738163: array([ 0.61763327,  0.97902158]),\n",
    " 70296805: array([ 0.4882674 ,  0.51108586]),\n",
    " 78935231: array([ 0.89284805,  0.20748951]),\n",
    " 82053696: array([ 0.81138028,  0.8690993 ]),\n",
    " 87972129: array([ 0.86134286,  0.79609087]),\n",
    " 88747525: array([ 0.95977045,  0.51439668]),\n",
    " 89357141: array([ 0.44068317,  0.09033936]),\n",
    " 93085738: array([ 0.32320231,  0.02215415]),\n",
    " 109200971: array([ 0.11057107,  0.16450717]),\n",
    " 113089048: array([ 0.07790915,  0.3324183]),\n",
    " 117152739: array([ 0.70516503,  0.62612612]),\n",
    " 129704264: array([ 0.03915662,  0.26405161]),\n",
    " 131678335: array([ 0.46701907,  0.        ]),\n",
    " 132641831: array([ 0.72441621,  0.9384347 ]),\n",
    " 133914532: array([ 0.54667241,  0.00696261]),\n",
    " 135317744: array([ 0.91799674,  0.73020564]),\n",
    " 135319667: array([ 0.1754183 ,  0.11210485]),\n",
    " 136860636: array([ 0.3981246 ,  0.99010875]),\n",
    " 139862068: array([ 0.26202507,  0.03757688]),\n",
    " 143529671: array([ 0.9324676 ,  0.28861159]),\n",
    " 144630663: array([ 0.94929298,  0.66610523]),\n",
    " 148311246: array([ 0.84256375,  0.14285106]),\n",
    " 152546927: array([ 0.5183958 ,  0.98684109]),\n",
    " 156165568: array([ 0.37448625,  0.03352678]),\n",
    " 157137118: array([ 0.45562268,  1.        ]),\n",
    " 162538841: array([ 0.27709792,  0.95739592]),\n",
    " 164939951: array([ 0.22118716,  0.07667276]),\n",
    " 170878296: array([ 0.34450476,  0.97220142]),\n",
    " 171734174: array([ 0.78041241,  0.09146471]),\n",
    " 172578712: array([ 0.21977031,  0.92508207]),\n",
    " 178226065: array([ 0.03560208,  0.74368425]),\n",
    " 180629853: array([ 0.        ,  0.53035337]),\n",
    " 200345769: array([ 0.02626842,  0.62267393])}"
   ]
  },
  {
   "cell_type": "markdown",
   "metadata": {},
   "source": [
    "### Housekeeping"
   ]
  },
  {
   "cell_type": "code",
   "execution_count": null,
   "metadata": {},
   "outputs": [],
   "source": [
    "import sys\n",
    "!{sys.executable} -m pip install --upgrade networkx"
   ]
  },
  {
   "cell_type": "code",
   "execution_count": null,
   "metadata": {},
   "outputs": [],
   "source": [
    "import platform\n",
    "print(platform.python_version())"
   ]
  },
  {
   "cell_type": "code",
   "execution_count": null,
   "metadata": {
    "jupyter": {
     "source_hidden": true
    },
    "tags": []
   },
   "outputs": [],
   "source": [
    "# CC - a simple example\n",
    "\n",
    "\n",
    "Gcc = nx.Graph([('John', 'Stacey'), ('Stacey', 'Becky'), ('John', 'Jane'), ('Jane', 'Stacey'),\n",
    "               \n",
    "               ('Dan', 'Donna'), ('Donna', 'Martha'), ('Dan', 'Martha')])\n",
    "\n",
    "plt.figure(figsize=(12,8), frameon=False)\n",
    "\n",
    "nx.draw(Gcc, \n",
    "        with_labels=True,\n",
    "        node_size=5000,                 # just so it's easier to read\n",
    "        font_size=16,\n",
    "        font_weight='bold',\n",
    "        node_color='g', alpha=.5,\n",
    "        pos=nx.spring_layout(Gcc, k=1))"
   ]
  }
 ],
 "metadata": {
  "kernelspec": {
   "display_name": "Python 3",
   "language": "python",
   "name": "python3"
  },
  "language_info": {
   "codemirror_mode": {
    "name": "ipython",
    "version": 3
   },
   "file_extension": ".py",
   "mimetype": "text/x-python",
   "name": "python",
   "nbconvert_exporter": "python",
   "pygments_lexer": "ipython3",
   "version": "3.7.6"
  }
 },
 "nbformat": 4,
 "nbformat_minor": 4
}
